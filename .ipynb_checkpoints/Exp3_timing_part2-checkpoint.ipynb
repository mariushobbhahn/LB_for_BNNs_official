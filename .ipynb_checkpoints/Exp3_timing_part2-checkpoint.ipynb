{
 "cells": [
  {
   "cell_type": "code",
   "execution_count": 14,
   "id": "052ea68f",
   "metadata": {},
   "outputs": [],
   "source": [
    "import torch\n",
    "from utils import LB_utils_special\n",
    "from scipy.special import gammaln, xlogy\n",
    "import numpy as np"
   ]
  },
  {
   "cell_type": "markdown",
   "id": "6798deb8",
   "metadata": {},
   "source": [
    "## compute KL divergence from samples\n",
    "\n",
    "we draw $x_i$ from a Gaussian, transform it by a softmax and compute $\\sum_i \\log p(x_i) / \\log q(x_i)$ where $p$ is the Dirichlet and $q$ is "
   ]
  },
  {
   "cell_type": "code",
   "execution_count": 32,
   "id": "dc635d6d",
   "metadata": {},
   "outputs": [],
   "source": [
    "def mv_norm_pdf(X, mu, Sigma):\n",
    "    return(torch.exp(torch.distributions.multivariate_normal.MultivariateNormal(mu, Sigma).log_prob(X)))\n",
    "\n",
    "def LB_alpha(mu, Sigma):\n",
    "    return(LB_utils_special.get_alpha_from_Normal(mu, Sigma))\n",
    "\n",
    "def dir_sm_pdf(x, alpha):\n",
    "    \n",
    "    #softmax X row-wise\n",
    "    x_sm = torch.exp(x) / torch.exp(x).sum()\n",
    "    coef = torch.sum(torch.special.gammaln(alpha)) - torch.special.gammaln(torch.sum(alpha))\n",
    "    r = torch.exp(-coef + torch.sum((torch.xlogy(alpha, x_sm.T)).T, 0))\n",
    "    return(r)\n",
    "\n",
    "\"\"\"\n",
    "def softmax_transform(x):\n",
    "    \n",
    "    exp_ = np.exp(x)\n",
    "    return(exp_/exp_.sum())\n",
    "\n",
    "def dirichlet_pdf(x, alpha):\n",
    "    \n",
    "    alpha = np.array(alpha)\n",
    "    x = np.array(x)\n",
    "    coef = np.sum(gammaln(alpha)) - gammaln(np.sum(alpha))  \n",
    "\n",
    "    return(np.exp(- coef+ np.sum((xlogy(alpha-1, x.T)).T, 0)))\n",
    "\n",
    "def dirichlet_t_softmax_pdf(x, alpha):\n",
    "    \n",
    "    alpha = np.array(alpha)\n",
    "    x_sm = softmax_transform(np.array(x))\n",
    "    coef = np.sum(gammaln(alpha)) - gammaln(np.sum(alpha))\n",
    "    \n",
    "    return(np.exp(- coef+ np.sum((xlogy(alpha, x_sm.T)).T, 0)))\n",
    "\"\"\""
   ]
  },
  {
   "cell_type": "code",
   "execution_count": 33,
   "id": "e234eb99",
   "metadata": {},
   "outputs": [
    {
     "name": "stdout",
     "output_type": "stream",
     "text": [
      "tensor([[ 0.4472,  6.5518, 17.2368]])\n"
     ]
    }
   ],
   "source": [
    "test_mu = torch.tensor([-3, 1, 2])\n",
    "test_Sigma = torch.eye(3)\n",
    "\n",
    "test_alpha = LB_alpha(test_mu.reshape(1,-1), test_Sigma.reshape(1,3,3))\n",
    "print(test_alpha)"
   ]
  },
  {
   "cell_type": "code",
   "execution_count": 35,
   "id": "4226f8d3",
   "metadata": {},
   "outputs": [
    {
     "name": "stdout",
     "output_type": "stream",
     "text": [
      "[0.01559771]\n",
      "tensor([0.0156])\n",
      "tensor(0.0234)\n"
     ]
    }
   ],
   "source": [
    "test_x = torch.tensor([-2,1,1])\n",
    "\n",
    "# test numpy implementation\n",
    "print(dirichlet_t_softmax_pdf(test_x.numpy(), test_alpha.numpy()))\n",
    "print(dir_sm_pdf(test_x, test_alpha))\n",
    "print(mv_norm_pdf(test_x.float(), test_mu, test_Sigma))"
   ]
  },
  {
   "cell_type": "code",
   "execution_count": null,
   "id": "86f0c976",
   "metadata": {},
   "outputs": [],
   "source": []
  },
  {
   "cell_type": "code",
   "execution_count": null,
   "id": "2f21c576",
   "metadata": {},
   "outputs": [],
   "source": []
  }
 ],
 "metadata": {
  "kernelspec": {
   "display_name": "Python 3 (ipykernel)",
   "language": "python",
   "name": "python3"
  },
  "language_info": {
   "codemirror_mode": {
    "name": "ipython",
    "version": 3
   },
   "file_extension": ".py",
   "mimetype": "text/x-python",
   "name": "python",
   "nbconvert_exporter": "python",
   "pygments_lexer": "ipython3",
   "version": "3.9.7"
  }
 },
 "nbformat": 4,
 "nbformat_minor": 5
}
