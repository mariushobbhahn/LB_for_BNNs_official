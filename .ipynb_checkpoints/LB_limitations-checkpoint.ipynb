{
 "cells": [
  {
   "cell_type": "code",
   "execution_count": 1,
   "id": "55ed4865",
   "metadata": {},
   "outputs": [],
   "source": [
    "import numpy as np\n",
    "import matplotlib.pyplot as plt\n",
    "np.set_printoptions(formatter={'float': lambda x: \"{0:0.4f}\".format(x)})\n"
   ]
  },
  {
   "cell_type": "markdown",
   "id": "e13bfd4f",
   "metadata": {},
   "source": [
    "# The limitations of the LB approximation\n",
    "\n",
    "Create multiple examples. A working case, a standard case and an extreme case. For every version, show the true distribution, the classic LB and the normalized LB"
   ]
  },
  {
   "cell_type": "code",
   "execution_count": 2,
   "id": "560b4ccc",
   "metadata": {},
   "outputs": [],
   "source": [
    "def correct_mu(mu, Sigma):\n",
    "    return(mu - Sigma.sum(0) * mu.sum() / Sigma.sum())\n",
    "\n",
    "def correct_Sigma(mu, Sigma):\n",
    "    return(Sigma - np.outer(Sigma.sum(0), Sigma.sum(1)) / Sigma.sum())\n",
    "\n",
    "def get_alpha_from_Normal(mu, Sigma):\n",
    "    K = len(mu)\n",
    "    sum_exp = np.sum(np.exp(-1*np.array(mu)))\n",
    "    alpha = 1/np.diag(Sigma) * (1 - 2/K + np.exp(mu)/(K**2) * sum_exp)\n",
    "        \n",
    "    return(np.array(alpha))\n",
    "\n",
    "from scipy.stats import norm\n",
    "from scipy.special import gamma as gamma_func\n",
    "from scipy.special import beta as beta_func\n",
    "\n",
    "\"\"\"Transforms\"\"\"\n",
    "def logit_transform(theta):\n",
    "    return(np.log(theta/(1-theta)))\n",
    "\n",
    "def logit_derivative(x):\n",
    "    return(1/x + 1/(1-x))\n",
    "\n",
    "def logistic_transform(a):\n",
    "    return(1 / (1 + np.exp(-a)))\n",
    "\n",
    "def logistic_derivative(x):\n",
    "    return(logistic_transform(x) * (1- logistic_transform(x)))\n",
    "\n",
    "def alpha_from_mu_var(mu, var):\n",
    "    return((np.exp(mu) + 1) / var)\n",
    "\n",
    "def beta_from_mu_var(mu, var):\n",
    "    return((np.exp(-mu) + 1) / var)\n",
    "\n",
    "def beta_pdf(x, a, b):\n",
    "    nom = x ** (a-1) * (1 - x) ** (b-1)\n",
    "    denom = beta_func(a, b)\n",
    "    return(nom/denom)\n",
    "\n",
    "def beta_t_logit_pdf(x, a, b):\n",
    "    x_t = logistic_transform(x)\n",
    "    nom = (x_t) ** (a) * (1- x_t) ** (b)\n",
    "    denom = beta_func(a, b)\n",
    "    return((nom/denom))\n",
    "\n",
    "def beta_mu(a, b):\n",
    "    return((a-1)/(a+b-2))\n",
    "\n",
    "def beta_var(a, b):\n",
    "    return(((a-1)*(b-1))/(a+b-2)**3)\n",
    "\n",
    "\"\"\"transform: logit\"\"\"\n",
    "\n",
    "def beta_t_logit_mu(a,b):\n",
    "    return(np.log(a/b))\n",
    "\n",
    "def beta_t_logit_var(a,b):\n",
    "    return((a+b)/(a*b))\n",
    "\n",
    "def logit_normal_back(x, mu, sigma):\n",
    "    x_ = logit_transform(x)\n",
    "    return(norm.pdf(x_, mu, sigma) * logit_derivative(x))"
   ]
  },
  {
   "cell_type": "code",
   "execution_count": 3,
   "id": "2f7adaa1",
   "metadata": {},
   "outputs": [],
   "source": [
    "def plot_LB_limits(mu, Sigma, x_lb=-10, x_ub=10):\n",
    "    \n",
    "    #apply the sum(y) = 0 correction\n",
    "    mu = correct_mu(mu, Sigma)\n",
    "    Sigma = correct_Sigma(mu, Sigma)\n",
    "    print(\"mu after correction: \", mu)\n",
    "    print(\"Sigma after correction: \", Sigma)\n",
    "    \n",
    "    alpha = get_alpha_from_Normal(mu, Sigma)\n",
    "    print(\"alpha: \", alpha)\n",
    "    a, b = alpha[0], alpha[1]\n",
    "    m, s = mu[0], np.sqrt(Sigma[0][0])\n",
    "    \n",
    "    x = np.linspace(0,1, 1000 +1)\n",
    "    x_t = np.linspace(x_lb,x_ub, 1000 +1)\n",
    "    \n",
    "    y_t_logit = beta_t_logit_pdf(x_t, a, b)\n",
    "    LP_approx_t_logit = norm.pdf(x_t, m, s)\n",
    "    \n",
    "    ### do the normalization\n",
    "    Sigma_diag_mean = np.diag(Sigma).mean()\n",
    "    mu_hat = mu / np.sqrt(Sigma_diag_mean)\n",
    "    Sigma_hat = Sigma / Sigma_diag_mean\n",
    "    \n",
    "    alpha_hat = get_alpha_from_Normal(mu_hat, Sigma_hat)\n",
    "    print(\"alpha_hat: \", alpha_hat)\n",
    "    a_hat, b_hat = alpha_hat[0], alpha_hat[1]\n",
    "    m_hat, s_hat = mu_hat[0], np.sqrt(Sigma_hat[0][0])\n",
    "    \n",
    "    x = np.linspace(0,1, 1000 +1)\n",
    "    x_t = np.linspace(x_lb,x_ub, 1000 +1)\n",
    "    \n",
    "    y_t_logit_hat = beta_t_logit_pdf(x_t, a_hat, b_hat)\n",
    "    LP_approx_t_logit_hat = norm.pdf(x_t, m_hat, s_hat)\n",
    "    \n",
    "    legend_size=14\n",
    "    xlabel_size=15\n",
    "    ylabel_size=15\n",
    "    title_size=15\n",
    "    lw_size=2\n",
    "    \n",
    "    fig, axs = plt.subplots(nrows=1, ncols=2, sharex=False, figsize=(10, 3))\n",
    "\n",
    "    #plot beta distribution in the transformed basis\n",
    "    axs[0].plot(x_t, y_t_logit, 'r-', lw=lw_size)\n",
    "    axs[0].plot(x_t, LP_approx_t_logit, 'r--', lw=lw_size)\n",
    "    axs[0].set_xlabel('x', fontsize=xlabel_size)\n",
    "    axs[0].set_title('Laplace in logit basis', fontsize=title_size)\n",
    "\n",
    "    #plot backwards transformation of the LPA from the transformed to the standard basis\n",
    "    axs[1].plot(x_t, y_t_logit_hat, 'k-', lw=lw_size)\n",
    "    axs[1].plot(x_t, LP_approx_t_logit_hat, 'k--', lw=lw_size)\n",
    "\n",
    "    plt.tight_layout()\n",
    "        \n",
    "    plt.show();\n",
    "    "
   ]
  },
  {
   "cell_type": "code",
   "execution_count": 4,
   "id": "ce6ca01e",
   "metadata": {},
   "outputs": [
    {
     "name": "stdout",
     "output_type": "stream",
     "text": [
      "mu after correction:  [0.2000 -0.2000]\n",
      "Sigma after correction:  [[0.5000 -0.5000]\n",
      " [-0.5000 0.5000]]\n",
      "alpha:  [1.2459 0.8352]\n",
      "alpha_hat:  [0.6902 0.3920]\n"
     ]
    },
    {
     "data": {
      "image/png": "[encoded data removed]",
      "text/plain": [
       "<Figure size 720x216 with 2 Axes>"
      ]
     },
     "metadata": {
      "needs_background": "light"
     },
     "output_type": "display_data"
    }
   ],
   "source": [
    "## simple example\n",
    "\n",
    "mu1 = np.array([0.2,-0.2])\n",
    "Sigma1 = np.array([[1, 0],\n",
    "                   [0, 1]])\n",
    "\n",
    "plot_LB_limits(mu1, Sigma1, -5, 10)"
   ]
  },
  {
   "cell_type": "code",
   "execution_count": 5,
   "id": "e31673b6",
   "metadata": {},
   "outputs": [
    {
     "name": "stdout",
     "output_type": "stream",
     "text": [
      "mu after correction:  [-1.3946 1.3946]\n",
      "Sigma after correction:  [[3.8748 -3.8748]\n",
      " [-3.8748 3.8748]]\n",
      "alpha:  [0.0685 1.1141]\n",
      "alpha_hat:  [0.3106 1.2811]\n"
     ]
    },
    {
     "data": {
      "image/png": "[encoded data removed]",
      "text/plain": [
       "<Figure size 720x216 with 2 Axes>"
      ]
     },
     "metadata": {
      "needs_background": "light"
     },
     "output_type": "display_data"
    }
   ],
   "source": [
    "## real in-dist example\n",
    "\n",
    "mu2 = np.array([ -1.3802,  1.4090])\n",
    "Sigma2 = np.array([[7.7495, 0.0000],\n",
    "                   [0.0000, 7.7495]])\n",
    "\n",
    "plot_LB_limits(mu2, Sigma2, -50, 10)"
   ]
  },
  {
   "cell_type": "code",
   "execution_count": 6,
   "id": "a4340f1c",
   "metadata": {},
   "outputs": [
    {
     "name": "stdout",
     "output_type": "stream",
     "text": [
      "mu after correction:  [7.1752 -7.1752]\n",
      "Sigma after correction:  [[6.6608 -6.6608]\n",
      " [-6.6608 6.6608]]\n",
      "alpha:  [64071.8120 0.0375]\n",
      "alpha_hat:  [65.2236 0.2510]\n"
     ]
    },
    {
     "data": {
      "image/png": "[encoded data removed]",
      "text/plain": [
       "<Figure size 720x216 with 2 Axes>"
      ]
     },
     "metadata": {
      "needs_background": "light"
     },
     "output_type": "display_data"
    }
   ],
   "source": [
    "## real OOD example\n",
    "\n",
    "mu3 = np.array([ 5.8471, -8.5032])\n",
    "Sigma3 = 0.01* np.array([[1332.1691, 0],\n",
    "                   [0, 1332.1691]])\n",
    "\n",
    "plot_LB_limits(mu3, Sigma3, -20, 40)"
   ]
  },
  {
   "cell_type": "markdown",
   "id": "5ac44004",
   "metadata": {},
   "source": [
    "# Comparing to the softmax Gaussian"
   ]
  },
  {
   "cell_type": "code",
   "execution_count": 7,
   "id": "f9e3311c",
   "metadata": {},
   "outputs": [],
   "source": [
    "from scipy.stats import multivariate_normal as mv_norm"
   ]
  },
  {
   "cell_type": "code",
   "execution_count": 8,
   "id": "30a7bf4d",
   "metadata": {},
   "outputs": [],
   "source": [
    "def compare_approx(mu, Sigma):\n",
    "    \n",
    "    #apply the sum(y) = 0 correction\n",
    "    mu_hat = correct_mu(mu, Sigma)\n",
    "    Sigma_hat = correct_Sigma(mu, Sigma)\n",
    "    \n",
    "    #APPLY YOUR CORRECTION HERE\n",
    "    Sigma_diag_mean = np.diag(Sigma_hat).mean()\n",
    "    mu_hat = mu_hat / np.sqrt(Sigma_diag_mean)\n",
    "    Sigma_hat = Sigma_hat / Sigma_diag_mean\n",
    "    alpha = get_alpha_from_Normal(mu_hat, Sigma_hat)\n",
    "    #print(\"mu after correction: \", mu_hat)\n",
    "    #print(\"Sigma after correction: \", Sigma_hat)\n",
    "    \n",
    "    \n",
    "    norm_samples = mv_norm(mu, Sigma).rvs(10000)\n",
    "    norm_samples_sm = np.exp(norm_samples) / np.exp(norm_samples).sum(1).reshape(-1, 1)\n",
    "    print(\"softmax samples mean: \", norm_samples_sm.mean(0))\n",
    "    print(\"mean from corrected Dirichlet: \", alpha / alpha.sum())"
   ]
  },
  {
   "cell_type": "code",
   "execution_count": 9,
   "id": "e2edf016",
   "metadata": {},
   "outputs": [
    {
     "name": "stdout",
     "output_type": "stream",
     "text": [
      "softmax samples mean:  [0.5702 0.4298]\n",
      "mean from corrected Dirichlet:  [0.6378 0.3622]\n"
     ]
    }
   ],
   "source": [
    "compare_approx(mu1, Sigma1)"
   ]
  },
  {
   "cell_type": "code",
   "execution_count": 10,
   "id": "c316a44b",
   "metadata": {},
   "outputs": [
    {
     "name": "stdout",
     "output_type": "stream",
     "text": [
      "softmax samples mean:  [0.2625 0.7375]\n",
      "mean from corrected Dirichlet:  [0.1951 0.8049]\n"
     ]
    }
   ],
   "source": [
    "compare_approx(mu2, Sigma2)"
   ]
  },
  {
   "cell_type": "code",
   "execution_count": 11,
   "id": "f09caf13",
   "metadata": {},
   "outputs": [
    {
     "name": "stdout",
     "output_type": "stream",
     "text": [
      "softmax samples mean:  [0.9958 0.0042]\n",
      "mean from corrected Dirichlet:  [0.9962 0.0038]\n"
     ]
    }
   ],
   "source": [
    "compare_approx(mu3, Sigma3)"
   ]
  },
  {
   "cell_type": "code",
   "execution_count": 12,
   "id": "1d306570",
   "metadata": {},
   "outputs": [
    {
     "name": "stdout",
     "output_type": "stream",
     "text": [
      "softmax samples mean:  [0.7998 0.2001 0.0001]\n",
      "mean from corrected Dirichlet:  [0.8845 0.1143 0.0013]\n"
     ]
    }
   ],
   "source": [
    "mu4 = np.array([7, 2, -7])\n",
    "Sigma4 = np.array([[30, 0, 0],\n",
    "                   [0, 2, 0],\n",
    "                   [0, 0, 1]])\n",
    "\n",
    "compare_approx(mu4, Sigma4)"
   ]
  },
  {
   "cell_type": "code",
   "execution_count": 13,
   "id": "fe71ea9f",
   "metadata": {},
   "outputs": [
    {
     "name": "stdout",
     "output_type": "stream",
     "text": [
      "softmax samples mean:  [0.3767 0.1660 0.2228 0.1676 0.0669]\n",
      "mean from corrected Dirichlet:  [0.2405 0.1933 0.2038 0.1933 0.1690]\n"
     ]
    }
   ],
   "source": [
    "mu5 = np.array([7, 0, 2, 0, -7])\n",
    "Sigma5 = 140 * np.eye(5)\n",
    "compare_approx(mu5, Sigma5)"
   ]
  },
  {
   "cell_type": "code",
   "execution_count": 14,
   "id": "4f09d2bb",
   "metadata": {},
   "outputs": [
    {
     "name": "stdout",
     "output_type": "stream",
     "text": [
      "softmax samples mean:  [0.0000 0.0004 0.0001 0.0002 0.0000 0.0000 0.0000 0.9993 0.0000 0.0001]\n",
      "mean from corrected Dirichlet:  [0.0020 0.0028 0.0093 0.0121 0.0013 0.0024 0.0006 0.9567 0.0027 0.0100]\n"
     ]
    }
   ],
   "source": [
    "### in dist MNIST diagonal\n",
    "mu_M1 = np.array([ -3.6094,  -2.8937,   1.1239,   1.7301,  -9.0167,  -3.9072, -17.8319,\n",
    "                 13.2881,  -5.2003,   0.8784])\n",
    "Sigma_M1 = np.array([[ 9.1984,  0.0000,  0.0000,  0.0000,  0.0000,  0.0000,  0.0000,  0.0000, 0.0000,  0.0000],\n",
    "        [ 0.0000, 19.1064,  0.0000,  0.0000,  0.0000,  0.0000,  0.0000,  0.0000, 0.0000,  0.0000],\n",
    "        [ 0.0000,  0.0000,  3.7570,  0.0000,  0.0000,  0.0000,  0.0000,  0.0000, 0.0000,  0.0000],\n",
    "        [ 0.0000,  0.0000,  0.0000,  3.2656,  0.0000,  0.0000,  0.0000,  0.0000, 0.0000,  0.0000],\n",
    "        [ 0.0000,  0.0000,  0.0000,  0.0000,  8.3827,  0.0000,  0.0000,  0.0000, 0.0000,  0.0000],\n",
    "        [ 0.0000,  0.0000,  0.0000,  0.0000,  0.0000,  6.0570,  0.0000,  0.0000, 0.0000,  0.0000],\n",
    "        [ 0.0000,  0.0000,  0.0000,  0.0000,  0.0000,  0.0000, 21.9312,  0.0000, 0.0000,  0.0000],\n",
    "        [ 0.0000,  0.0000,  0.0000,  0.0000,  0.0000,  0.0000,  0.0000,  2.3324, 0.0000,  0.0000],\n",
    "        [ 0.0000,  0.0000,  0.0000,  0.0000,  0.0000,  0.0000,  0.0000,  0.0000, 4.4827,  0.0000],\n",
    "        [ 0.0000,  0.0000,  0.0000,  0.0000,  0.0000,  0.0000,  0.0000,  0.0000, 0.0000,  3.0562]])\n",
    "\n",
    "compare_approx(mu_M1, Sigma_M1)"
   ]
  },
  {
   "cell_type": "code",
   "execution_count": 15,
   "id": "b0eb7985",
   "metadata": {},
   "outputs": [
    {
     "name": "stdout",
     "output_type": "stream",
     "text": [
      "softmax samples mean:  [0.1066 0.1382 0.2368 0.0000 0.0356 0.0387 0.0313 0.3845 0.0280 0.0003]\n",
      "mean from corrected Dirichlet:  [0.0700 0.0663 0.1614 0.0733 0.0712 0.1101 0.0455 0.1944 0.1251 0.0826]\n"
     ]
    }
   ],
   "source": [
    "### OOD MNIST sample from KMNIST diagonal\n",
    "mu_M2 = np.array([ -0.3258,  -2.6156,   2.0024, -10.2074,  -1.7162,  -0.9300,  -3.0700,\n",
    "                  3.0261,  -1.1326,  -6.6048])\n",
    "Sigma_M2 = np.array([[10.9447,  0.0000,  0.0000,  0.0000,  0.0000,  0.0000,  0.0000,  0.0000, 0.0000,  0.0000],\n",
    "        [ 0.0000, 38.1201,  0.0000,  0.0000,  0.0000,  0.0000,  0.0000,  0.0000, 0.0000,  0.0000],\n",
    "        [ 0.0000,  0.0000,  5.6068,  0.0000,  0.0000,  0.0000,  0.0000,  0.0000, 0.0000,  0.0000],\n",
    "        [ 0.0000,  0.0000,  0.0000,  5.0454,  0.0000,  0.0000,  0.0000,  0.0000, 0.0000,  0.0000],\n",
    "        [ 0.0000,  0.0000,  0.0000,  0.0000,  7.6814,  0.0000,  0.0000,  0.0000, 0.0000,  0.0000],\n",
    "        [ 0.0000,  0.0000,  0.0000,  0.0000,  0.0000,  4.9295,  0.0000,  0.0000, 0.0000,  0.0000],\n",
    "        [ 0.0000,  0.0000,  0.0000,  0.0000,  0.0000,  0.0000, 12.1236,  0.0000, 0.0000,  0.0000],\n",
    "        [ 0.0000,  0.0000,  0.0000,  0.0000,  0.0000,  0.0000,  0.0000,  6.0272, 0.0000,  0.0000],\n",
    "        [ 0.0000,  0.0000,  0.0000,  0.0000,  0.0000,  0.0000,  0.0000,  0.0000, 4.1253,  0.0000],\n",
    "        [ 0.0000,  0.0000,  0.0000,  0.0000,  0.0000,  0.0000,  0.0000,  0.0000, 0.0000,  4.6678]])\n",
    "\n",
    "compare_approx(mu_M2, Sigma_M2)"
   ]
  },
  {
   "cell_type": "code",
   "execution_count": 16,
   "id": "55d72cee",
   "metadata": {},
   "outputs": [
    {
     "name": "stdout",
     "output_type": "stream",
     "text": [
      "softmax samples mean:  [0.0000 0.0000 0.0000 0.0000 0.0000 0.0000 0.0000 0.9999 0.0000 0.0000]\n",
      "mean from corrected Dirichlet:  [0.0000 0.0000 0.0000 0.0000 0.0000 0.0000 0.0000 0.9999 0.0000 0.0000]\n"
     ]
    }
   ],
   "source": [
    "### in dist MNIST kfac\n",
    "mu_M3 = np.array([ -3.6094,  -2.8937,   1.1239,   1.7301,  -9.0167,  -3.9072, -17.8319,\n",
    "         13.2881,  -5.2003,   0.8784])\n",
    "Sigma_M3 = np.array([[42.6037, 40.4586, 40.5774, 40.5005, 40.5371, 40.5741, 40.8008, 40.5139, 40.6334, 40.5754],\n",
    "                    [40.4586, 42.3545, 40.7232, 40.5542, 40.6854, 40.5083, 40.5141, 40.6926, 40.6774, 40.6066],\n",
    "                    [40.5774, 40.7232, 41.9556, 40.7366, 40.6178, 40.5562, 40.4891, 40.7880, 40.7114, 40.6196],\n",
    "                    [40.5005, 40.5542, 40.7366, 41.9227, 40.5880, 40.8414, 40.4990, 40.7278, 40.7166, 40.6885],\n",
    "                    [40.5371, 40.6854, 40.6178, 40.5880, 41.8064, 40.5738, 40.6068, 40.7205, 40.6691, 40.9704],\n",
    "                    [40.5741, 40.5083, 40.5562, 40.8414, 40.5738, 42.0326, 40.7329, 40.5634, 40.7450, 40.6472],\n",
    "                    [40.8008, 40.5141, 40.4891, 40.4990, 40.6068, 40.7329, 42.4786, 40.4548, 40.6701, 40.5288],\n",
    "                    [40.5139, 40.6926, 40.7880, 40.7278, 40.7205, 40.5634, 40.4548, 41.8525, 40.6419, 40.8200],\n",
    "                    [40.6334, 40.6774, 40.7114, 40.7166, 40.6691, 40.7450, 40.6701, 40.6419, 41.5895, 40.7207],\n",
    "                    [40.5754, 40.6066, 40.6196, 40.6885, 40.9704, 40.6472, 40.5288, 40.8200, 40.7207, 41.5984]])\n",
    "\n",
    "compare_approx(mu_M3, Sigma_M3)"
   ]
  },
  {
   "cell_type": "code",
   "execution_count": 17,
   "id": "62ae54a0",
   "metadata": {},
   "outputs": [
    {
     "name": "stdout",
     "output_type": "stream",
     "text": [
      "softmax samples mean:  [0.1367 0.0427 0.2427 0.0001 0.0465 0.0829 0.0407 0.3615 0.0452 0.0010]\n",
      "mean from corrected Dirichlet:  [0.0690 0.0666 0.1312 0.0742 0.1031 0.0910 0.0611 0.1661 0.1322 0.1055]\n"
     ]
    },
    {
     "name": "stderr",
     "output_type": "stream",
     "text": [
      "/home/marius/anaconda3/lib/python3.9/site-packages/scipy/stats/_multivariate.py:653: RuntimeWarning: covariance is not positive-semidefinite.\n",
      "  out = random_state.multivariate_normal(mean, cov, size)\n"
     ]
    }
   ],
   "source": [
    "### OOD MNIST sample from KMNIST kfac\n",
    "mu_M4 = np.array([ -0.3258,  -2.6156,   2.0024, -10.2074,  -1.7162,  -0.9300,  -3.0700, 3.0261,  -1.1326,  -6.6048])\n",
    "Sigma_M4 = np.array([[45.1095, 26.1054, 27.0449, 26.4079, 26.6924, 26.9655, 28.7031, 26.5338, 27.4766, 27.0231],\n",
    "                    [26.1054, 43.1863, 28.1643, 26.7889, 27.8688, 26.4563, 26.5479, 27.9078, 27.8381, 27.1983],\n",
    "                    [27.0449, 28.1643, 39.9264, 28.3120, 27.3064, 26.8079, 26.3263, 28.7393, 28.1347, 27.3000],\n",
    "                    [26.4079, 26.7889, 28.3120, 39.6216, 27.0472, 29.2015, 26.3780, 28.2318, 28.1611, 27.9122],\n",
    "                    [26.6924, 27.8688, 27.3064, 27.0472, 38.6031, 26.9539, 27.2805, 28.1500, 27.7546, 30.4056],\n",
    "                    [26.9655, 26.4563, 26.8079, 29.2015, 26.9539, 40.5569, 28.2534, 26.8700, 28.4134, 27.5836],\n",
    "                    [28.7031, 26.5479, 26.3263, 26.3780, 27.2804, 28.2534, 44.1292, 26.0523, 27.7793, 26.6122],\n",
    "                    [26.5338, 27.9078, 28.7393, 28.2318, 28.1500, 26.8700, 26.0523, 39.0144, 27.5094, 29.0536],\n",
    "                    [27.4766, 27.8381, 28.1347, 28.1611, 27.7546, 28.4134, 27.7793, 27.5094, 36.7683, 28.2269],\n",
    "                    [27.0231, 27.1983, 27.3000, 27.9122, 30.4056, 27.5836, 26.6122, 29.0535, 28.2269, 36.7473]])\n",
    "\n",
    "compare_approx(mu_M4, Sigma_M4)"
   ]
  },
  {
   "cell_type": "code",
   "execution_count": 18,
   "id": "c46d7191",
   "metadata": {},
   "outputs": [
    {
     "name": "stdout",
     "output_type": "stream",
     "text": [
      "softmax samples mean:  [0.0021 0.0024 0.0011 0.9855 0.0011 0.0031 0.0015 0.0011 0.0012 0.0010]\n",
      "mean from corrected Dirichlet:  [0.0371 0.0347 0.0382 0.6633 0.0366 0.0488 0.0365 0.0354 0.0346 0.0348]\n"
     ]
    }
   ],
   "source": [
    "### In dist example from CIFAR10 diag\n",
    "mu_C1 = np.array([-0.7904, -0.9332, -1.2690, 10.5045, -1.5545,  0.2727, -1.2620, -1.6380,\n",
    "                  -1.6235, -1.7063])\n",
    "Sigma_C1 = np.array([[7.3171, 0.0000, 0.0000, 0.0000, 0.0000, 0.0000, 0.0000, 0.0000, 0.0000, 0.0000],\n",
    "                    [0.0000, 7.8437, 0.0000, 0.0000, 0.0000, 0.0000, 0.0000, 0.0000, 0.0000, 0.0000],\n",
    "                    [0.0000, 0.0000, 6.9209, 0.0000, 0.0000, 0.0000, 0.0000, 0.0000, 0.0000, 0.0000],\n",
    "                    [0.0000, 0.0000, 0.0000, 4.6104, 0.0000, 0.0000, 0.0000, 0.0000, 0.0000, 0.0000],\n",
    "                    [0.0000, 0.0000, 0.0000, 0.0000, 7.1798, 0.0000, 0.0000, 0.0000, 0.0000, 0.0000],\n",
    "                    [0.0000, 0.0000, 0.0000, 0.0000, 0.0000, 5.7733, 0.0000, 0.0000, 0.0000, 0.0000],\n",
    "                    [0.0000, 0.0000, 0.0000, 0.0000, 0.0000, 0.0000, 7.2872, 0.0000, 0.0000, 0.0000],\n",
    "                    [0.0000, 0.0000, 0.0000, 0.0000, 0.0000, 0.0000, 0.0000, 7.4371, 0.0000, 0.0000],\n",
    "                    [0.0000, 0.0000, 0.0000, 0.0000, 0.0000, 0.0000, 0.0000, 0.0000, 7.6382, 0.0000],\n",
    "                    [0.0000, 0.0000, 0.0000, 0.0000, 0.0000, 0.0000, 0.0000, 0.0000, 0.0000, 7.5489]])\n",
    "\n",
    "compare_approx(mu_C1, Sigma_C1)"
   ]
  },
  {
   "cell_type": "code",
   "execution_count": 19,
   "id": "95984886",
   "metadata": {},
   "outputs": [
    {
     "name": "stdout",
     "output_type": "stream",
     "text": [
      "softmax samples mean:  [0.2178 0.0180 0.0083 0.0797 0.0015 0.5102 0.0844 0.0329 0.0085 0.0386]\n",
      "mean from corrected Dirichlet:  [0.1267 0.0685 0.0705 0.1168 0.0640 0.2407 0.0912 0.0769 0.0670 0.0776]\n"
     ]
    }
   ],
   "source": [
    "### Out dist example from CIFAR10 SVHN diag\n",
    "mu_C2 = np.array([ 2.7337, -1.1095, -1.9700,  1.3098, -4.0968,  4.4117,  1.1552, -0.2485,\n",
    "        -2.0887, -0.0966])\n",
    "Sigma_C2 = np.array([[4.5158, 0.0000, 0.0000, 0.0000, 0.0000, 0.0000, 0.0000, 0.0000, 0.0000, 0.0000],\n",
    "                    [0.0000, 5.1170, 0.0000, 0.0000, 0.0000, 0.0000, 0.0000, 0.0000, 0.0000, 0.0000],\n",
    "                    [0.0000, 0.0000, 4.7239, 0.0000, 0.0000, 0.0000, 0.0000, 0.0000, 0.0000, 0.0000],\n",
    "                    [0.0000, 0.0000, 0.0000, 3.6724, 0.0000, 0.0000, 0.0000, 0.0000, 0.0000, 0.0000],\n",
    "                    [0.0000, 0.0000, 0.0000, 0.0000, 4.9694, 0.0000, 0.0000, 0.0000, 0.0000, 0.0000],\n",
    "                    [0.0000, 0.0000, 0.0000, 0.0000, 0.0000, 3.7288, 0.0000, 0.0000, 0.0000, 0.0000],\n",
    "                    [0.0000, 0.0000, 0.0000, 0.0000, 0.0000, 0.0000, 4.7160, 0.0000, 0.0000, 0.0000],\n",
    "                    [0.0000, 0.0000, 0.0000, 0.0000, 0.0000, 0.0000, 0.0000, 4.8042, 0.0000, 0.0000],\n",
    "                    [0.0000, 0.0000, 0.0000, 0.0000, 0.0000, 0.0000, 0.0000, 0.0000, 4.9789, 0.0000],\n",
    "                    [0.0000, 0.0000, 0.0000, 0.0000, 0.0000, 0.0000, 0.0000, 0.0000, 0.0000, 4.8240]])\n",
    "\n",
    "compare_approx(mu_C2, Sigma_C2)"
   ]
  },
  {
   "cell_type": "code",
   "execution_count": null,
   "id": "28cbe1e6",
   "metadata": {},
   "outputs": [],
   "source": []
  },
  {
   "cell_type": "code",
   "execution_count": null,
   "id": "22e549ad",
   "metadata": {},
   "outputs": [],
   "source": []
  },
  {
   "cell_type": "code",
   "execution_count": null,
   "id": "b36fa9c0",
   "metadata": {},
   "outputs": [],
   "source": []
  }
 ],
 "metadata": {
  "kernelspec": {
   "display_name": "Python 3 (ipykernel)",
   "language": "python",
   "name": "python3"
  },
  "language_info": {
   "codemirror_mode": {
    "name": "ipython",
    "version": 3
   },
   "file_extension": ".py",
   "mimetype": "text/x-python",
   "name": "python",
   "nbconvert_exporter": "python",
   "pygments_lexer": "ipython3",
   "version": "3.9.7"
  }
 },
 "nbformat": 4,
 "nbformat_minor": 5
}
