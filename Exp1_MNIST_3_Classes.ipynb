{
 "cells": [
  {
   "cell_type": "code",
   "execution_count": 1,
   "metadata": {},
   "outputs": [
    {
     "data": {
      "text/plain": [
       "<torch._C.Generator at 0x7fcbb8149d50>"
      ]
     },
     "execution_count": 1,
     "metadata": {},
     "output_type": "execute_result"
    }
   ],
   "source": [
    "import torch\n",
    "import torchvision\n",
    "from torch import nn, optim, autograd\n",
    "from torch.nn import functional as F\n",
    "from torch.distributions.multivariate_normal import MultivariateNormal\n",
    "from torch.autograd import Variable\n",
    "import numpy as np\n",
    "#import input_data\n",
    "from sklearn.utils import shuffle as skshuffle\n",
    "from math import *\n",
    "from backpack import backpack, extend\n",
    "from backpack.extensions import KFAC, DiagHessian, DiagGGNMC\n",
    "from sklearn.metrics import roc_auc_score\n",
    "import scipy\n",
    "from tqdm import tqdm, trange\n",
    "from bpjacext import NetJac\n",
    "import pytest\n",
    "from DirLPA_utils import * \n",
    "\n",
    "import matplotlib.pyplot as plt\n",
    "\n",
    "np.random.seed(123)\n",
    "torch.manual_seed(123)"
   ]
  },
  {
   "cell_type": "code",
   "execution_count": 1,
   "metadata": {},
   "outputs": [],
   "source": [
    "#NOTE: DO NOT RUN THIS CODE: the function NetJac comes from a private repository that is not yet available for you. \n",
    "#If you search for it aggressively you might find out my identity. I would therefore prefer if you just looked at the provided results.\n",
    "\n",
    "#Also, Pytorch was updated and is now incompatible with NetJac."
   ]
  },
  {
   "cell_type": "markdown",
   "metadata": {},
   "source": [
    "# make plots work"
   ]
  },
  {
   "cell_type": "code",
   "execution_count": 2,
   "metadata": {},
   "outputs": [],
   "source": [
    "from matplotlib import cm\n",
    "from matplotlib.colors import ListedColormap, LinearSegmentedColormap\n",
    "\n",
    "new_blue = cm.get_cmap('Blues', 256)\n",
    "new_blue = new_blue(np.linspace(0.3,1,256))\n",
    "new_blues = ListedColormap(new_blue, name='new_blues')\n",
    "\n",
    "new_red = cm.get_cmap('Reds', 256)\n",
    "new_red = new_red(np.linspace(0.3,1,256))\n",
    "new_reds = ListedColormap(new_red, name='new_reds')\n",
    "\n",
    "new_green = cm.get_cmap('Greens', 256)\n",
    "new_green = new_green(np.linspace(0.3,1,256))\n",
    "new_greens = ListedColormap(new_green, name='new_greens')\n",
    "\n",
    "new_purple = cm.get_cmap('Purples', 256)\n",
    "new_purple = new_purple(np.linspace(0.3,1,256))\n",
    "new_purples = ListedColormap(new_purple, name='new_purples')\n",
    "\n",
    "new_orange = cm.get_cmap('Oranges', 256)\n",
    "new_orange = new_orange(np.linspace(0.3,1,256))\n",
    "new_oranges = ListedColormap(new_orange, name='new_oranges')"
   ]
  },
  {
   "cell_type": "code",
   "execution_count": 3,
   "metadata": {},
   "outputs": [],
   "source": [
    "top = cm.get_cmap('Blues_r', 128)\n",
    "bottom = cm.get_cmap('Reds', 128)\n",
    "\n",
    "\n",
    "newcolors = np.vstack((top(np.linspace(0.9, 1, 128)),\n",
    "                       bottom(np.linspace(0, 0.7, 128))))\n",
    "newcmp = ListedColormap(newcolors, name='OrangeBlue')"
   ]
  },
  {
   "cell_type": "code",
   "execution_count": 4,
   "metadata": {},
   "outputs": [],
   "source": [
    "new_coolwarm = cm.get_cmap('coolwarm', 256)\n",
    "new_coolwarm = new_coolwarm(np.linspace(0.35,0.95,256))\n",
    "new_coolwarm = ListedColormap(new_coolwarm, name='new_coolwarm')"
   ]
  },
  {
   "cell_type": "code",
   "execution_count": 5,
   "metadata": {},
   "outputs": [],
   "source": [
    "new_cool = cm.get_cmap('cool', 256)\n",
    "new_cool = new_cool(np.linspace(0.3,1 ,256))\n",
    "new_cool = ListedColormap(new_cool, name='new_cool')"
   ]
  },
  {
   "cell_type": "code",
   "execution_count": 6,
   "metadata": {},
   "outputs": [],
   "source": [
    "new_bupu = cm.get_cmap('BuPu', 256)\n",
    "new_bupu = new_bupu(np.linspace(0.4,1 ,256))\n",
    "new_bupu = ListedColormap(new_bupu, name='new_bupu')"
   ]
  },
  {
   "cell_type": "code",
   "execution_count": 7,
   "metadata": {},
   "outputs": [
    {
     "name": "stdout",
     "output_type": "stream",
     "text": [
      "153\n"
     ]
    },
    {
     "data": {
      "image/png": "[encoded data removed]",
      "text/plain": [
       "<Figure size 432x288 with 1 Axes>"
      ]
     },
     "metadata": {},
     "output_type": "display_data"
    }
   ],
   "source": [
    "# just copy pasted from this link: http://blog.bogatron.net/blog/2014/02/02/visualizing-dirichlet-distributions/\n",
    "%matplotlib inline\n",
    "import numpy as np\n",
    "import matplotlib.tri as tri\n",
    "import math\n",
    "from functools import reduce\n",
    "from math import gamma\n",
    "from operator import mul\n",
    "from scipy.special import loggamma, gammaln, xlogy\n",
    "\n",
    "corners = np.array([[0, 0], [1, 0], [0.5, 0.75**0.5]])\n",
    "triangle = tri.Triangulation(corners[:, 0], corners[:, 1])\n",
    "\n",
    "refiner = tri.UniformTriRefiner(triangle)\n",
    "trimesh = refiner.refine_triangulation(subdiv=4)\n",
    "\n",
    "\n",
    "midpoints = [(corners[(i + 1) % 3] + corners[(i + 2) % 3]) / 2.0 \\\n",
    "             for i in range(3)]\n",
    "def xy2bc(xy, tol=1.e-3):\n",
    "    '''Converts 2D Cartesian coordinates to barycentric.'''\n",
    "    s = [(corners[i] - midpoints[i]).dot(xy - midpoints[i]) / 0.75 \\\n",
    "         for i in range(3)]\n",
    "    return np.clip(s, tol, 1.0 - tol)\n",
    "\n",
    "def logit_transform(x):\n",
    "    \n",
    "    out = np.log(x/(1-x))\n",
    "    return(out)\n",
    "\n",
    "def beta_function(alpha):\n",
    "    return(np.exp(np.sum([loggamma(a_i) for a_i in alpha]) - loggamma(np.sum(alpha))))    \n",
    "\n",
    "class Dirichlet(object):\n",
    "    def __init__(self, alpha):\n",
    "        self._alpha = np.array(alpha)\n",
    "        self._coef = np.sum(gammaln(alpha)) - gammaln(np.sum(alpha))    \n",
    "        \n",
    "    def pdf(self, x):\n",
    "        '''Returns pdf value for `x`.'''\n",
    "        #x = softmax_transform(x)\n",
    "        return(np.exp(- self._coef+ np.sum((xlogy(self._alpha-1, x.T)).T, 0)))\n",
    "    \n",
    "class Normal3D(object):\n",
    "    \n",
    "    def __init__(self, mu, Sigma):\n",
    "        self.mu = np.array(mu)\n",
    "        self.Sigma = np.linalg.inv(np.array(Sigma))\n",
    "        self.const = 1 / (np.sqrt((2*np.pi)**3 * np.linalg.det(Sigma)))\n",
    "        \n",
    "    def pdf(self, x):\n",
    "        \"\"\"Calculate 3D Gaussian\"\"\"\n",
    "        y = self.const * np.exp(-0.5 * (x - self.mu).T @ self.Sigma @ (x - self.mu))\n",
    "        return(y)\n",
    "    \n",
    "class logitNormal3D(object):\n",
    "    \n",
    "    def __init__(self, mu, Sigma):\n",
    "        self.mu = np.array(mu)\n",
    "        self.Sigma = np.array(Sigma)\n",
    "        self.Sigma_inv = np.linalg.inv(np.array(Sigma))\n",
    "        self.const = 1/ (np.sqrt(np.linalg.det(2 * np.pi * self.Sigma)))\n",
    "        \n",
    "    def pdf(self, x):\n",
    "        part_one = self.const /np.prod(x*(1-x))\n",
    "        logit = logit_transform(x)\n",
    "        part_two = np.exp(-0.5*(logit - self.mu).T @ self.Sigma_inv @ (logit - self.mu))\n",
    "        y = part_one * part_two\n",
    "        return(y)\n",
    "    \n",
    "class softmaxNormal3D(object):\n",
    "    \n",
    "    def __init__(self, mu, Sigma, c):\n",
    "        self.mu = np.array(mu)\n",
    "        self.c = c * np.ones(len(mu))\n",
    "        self.Sigma = np.array(Sigma)\n",
    "        self.Sigma_inv = np.linalg.inv(np.array(Sigma))\n",
    "        self.const = 1/ (np.sqrt(np.linalg.det(2 * np.pi * self.Sigma)))\n",
    "        \n",
    "    def pdf(self, x):\n",
    "        part_one = self.const/ np.prod(1/x)\n",
    "        sm_inv = np.log(x) + self.c\n",
    "        part_two = np.exp(-0.5*(sm_inv - self.mu).T @ self.Sigma_inv @ (sm_inv - self.mu))\n",
    "        y = part_one * part_two\n",
    "        return(y)\n",
    "\n",
    "def draw_pdf_contours(dist, nlevels=200, subdiv=4, filename='test.png',**kwargs):\n",
    "\n",
    "    refiner = tri.UniformTriRefiner(triangle)\n",
    "    trimesh = refiner.refine_triangulation(subdiv=subdiv)\n",
    "    pvals = [dist.pdf(xy2bc(xy)) for xy in zip(trimesh.x, trimesh.y)]\n",
    "    xys = [xy2bc(xy) for xy in zip(trimesh.x, trimesh.y)]\n",
    "    #print(len(pvals))\n",
    "    #print(xys)\n",
    "    print(len(xys))\n",
    "\n",
    "    cs = plt.tricontourf(trimesh, pvals, nlevels, cmap=new_coolwarm) #plasma, inferno is OK\n",
    "    for c in cs.collections:\n",
    "        c.set_rasterized(True)\n",
    "    plt.axis('equal')\n",
    "    plt.xlim(0, 1)\n",
    "    plt.ylim(0, 0.75**0.5)\n",
    "    plt.axis('off')\n",
    "    plt.tight_layout()\n",
    "    plt.margins(0,0)\n",
    "    plt.gca().xaxis.set_major_locator(plt.NullLocator())\n",
    "    plt.gca().yaxis.set_major_locator(plt.NullLocator())\n",
    "    plt.savefig('figures/{}'.format(filename), bbox_inches = 'tight', pad_inches = 0)\n",
    "    \n",
    "draw_pdf_contours(Dirichlet([100, 1,1]), filename='new_coolwarm.pdf')"
   ]
  },
  {
   "cell_type": "code",
   "execution_count": 8,
   "metadata": {},
   "outputs": [
    {
     "data": {
      "image/png": "[encoded data removed]",
      "text/plain": [
       "<Figure size 432x216 with 4 Axes>"
      ]
     },
     "metadata": {
      "needs_background": "light"
     },
     "output_type": "display_data"
    }
   ],
   "source": [
    "viridis = cm.get_cmap('viridis', 256)\n",
    "\n",
    "def plot_examples(cms):\n",
    "    \"\"\"\n",
    "    helper function to plot two colormaps\n",
    "    \"\"\"\n",
    "    np.random.seed(19680801)\n",
    "    data = np.random.randn(30, 30)\n",
    "\n",
    "    fig, axs = plt.subplots(1, 2, figsize=(6, 3), constrained_layout=True)\n",
    "    for [ax, cmap] in zip(axs, cms):\n",
    "        psm = ax.pcolormesh(data, cmap=cmap, rasterized=True, vmin=-4, vmax=4)\n",
    "        fig.colorbar(psm, ax=ax)\n",
    "    plt.show()\n",
    "\n",
    "plot_examples([viridis, new_coolwarm])"
   ]
  },
  {
   "cell_type": "code",
   "execution_count": 9,
   "metadata": {},
   "outputs": [],
   "source": [
    "def draw_triple_pdfs(dists, nlevels=200, subdiv=6, filename='dummy.pdf', **kwargs):\n",
    "    \n",
    "    fig, axs = plt.subplots(nrows=1, ncols=len(dists), sharex=False, figsize=(15, 5))\n",
    "    \n",
    "    for i, d in enumerate(dists):\n",
    "        \n",
    "        refiner = tri.UniformTriRefiner(triangle)\n",
    "        trimesh = refiner.refine_triangulation(subdiv=subdiv)\n",
    "        pvals = [d.pdf(xy2bc(xy)) for xy in zip(trimesh.x, trimesh.y)]\n",
    "\n",
    "        cs = axs[i].tricontourf(trimesh, pvals, nlevels, cmap='cool') #plasma, inferno is OK\n",
    "        for c in cs.collections:\n",
    "            c.set_rasterized(True)\n",
    "        axs[i].axis('equal')\n",
    "        axs[i].set_xlim(0, 1)\n",
    "        axs[i].set_ylim(0, 0.75**0.5)\n",
    "        axs[i].axis('off')\n",
    "    \n",
    "    fig.tight_layout()\n",
    "    plt.savefig('figures/{}'.format(filename))\n",
    "    plt.show()   "
   ]
  },
  {
   "cell_type": "code",
   "execution_count": 10,
   "metadata": {},
   "outputs": [
    {
     "data": {
      "image/png": "[encoded data removed]",
      "text/plain": [
       "<Figure size 1080x360 with 3 Axes>"
      ]
     },
     "metadata": {
      "needs_background": "light"
     },
     "output_type": "display_data"
    }
   ],
   "source": [
    "mu1 = np.array([0.5, 0.5, 0.5])\n",
    "Sigma1 = 1*np.eye(3)\n",
    "dists = [Normal3D(mu1, Sigma1), Normal3D(mu1, Sigma1), Normal3D(mu1, Sigma1)]\n",
    "draw_triple_pdfs(dists)"
   ]
  },
  {
   "cell_type": "markdown",
   "metadata": {},
   "source": [
    "# take subset of mnist"
   ]
  },
  {
   "cell_type": "code",
   "execution_count": 11,
   "metadata": {},
   "outputs": [
    {
     "name": "stderr",
     "output_type": "stream",
     "text": [
      "/tmp/pip-req-build-58y_cjjl/aten/src/ATen/native/IndexingUtils.h:20: UserWarning: indexing with dtype torch.uint8 is now deprecated, please use a dtype torch.bool instead.\n"
     ]
    },
    {
     "name": "stdout",
     "output_type": "stream",
     "text": [
      "18623\n",
      "tensor([0, 1, 2,  ..., 0, 2, 1])\n"
     ]
    },
    {
     "data": {
      "text/plain": [
       "<matplotlib.image.AxesImage at 0x7fcb57fa19e8>"
      ]
     },
     "execution_count": 11,
     "metadata": {},
     "output_type": "execute_result"
    },
    {
     "data": {
      "image/png": "[encoded data removed]",
      "text/plain": [
       "<Figure size 432x288 with 1 Axes>"
      ]
     },
     "metadata": {
      "needs_background": "light"
     },
     "output_type": "display_data"
    }
   ],
   "source": [
    "MNIST_transform = torchvision.transforms.ToTensor()\n",
    "\n",
    "MNIST_train = torchvision.datasets.MNIST(\n",
    "        '~/data/mnist',\n",
    "        train=True,\n",
    "        download=True,\n",
    "        transform=MNIST_transform)\n",
    "\n",
    "def get_subset_MNIST(classes=[0,1,2], dataset=MNIST_train):\n",
    "    \n",
    "    dataset.targets = dataset.targets.clone().detach()\n",
    "    idx = torch.zeros(dataset.targets.size()).byte()\n",
    "    for c in classes:\n",
    "        idx += (dataset.targets==c).byte()\n",
    "    dataset.targets= dataset.targets[idx]\n",
    "    dataset.data = dataset.data[idx.numpy().astype(np.bool)]\n",
    "    \n",
    "    #remap all classes to list of ints starting at 1\n",
    "    map_dict = dict()\n",
    "    for i, c in enumerate(classes):\n",
    "        map_dict[c] = i\n",
    "    \n",
    "    for i, t in enumerate(dataset.targets):\n",
    "        dataset.targets[i] = map_dict[t.item()]\n",
    "    \n",
    "    return(dataset.data, dataset.targets)\n",
    "\n",
    "num_samples = \"all\"\n",
    "classes = [0,1,2]\n",
    "MNIST_train.data, MNIST_train.targets = get_subset_MNIST(classes=classes, dataset=MNIST_train)\n",
    "print(len(MNIST_train.targets))\n",
    "print(MNIST_train.targets)\n",
    "plt.imshow(MNIST_train.data[0].numpy())"
   ]
  },
  {
   "cell_type": "code",
   "execution_count": 12,
   "metadata": {},
   "outputs": [
    {
     "name": "stdout",
     "output_type": "stream",
     "text": [
      "3147\n",
      "tensor([2, 1, 0, 1, 0, 0, 1, 0, 0, 1, 1, 2, 1, 2, 1, 1, 2, 1, 2, 0, 1, 0, 0, 2,\n",
      "        1, 2, 2, 1, 1, 1, 0, 2, 1, 2, 0, 1, 0, 1, 1, 1, 2, 0, 2, 1, 0, 1, 2, 2,\n",
      "        1, 1, 1, 0, 2, 0, 1, 1, 1, 0, 0, 1, 2, 1, 1, 1, 2, 0, 2, 2, 1, 2, 1, 2,\n",
      "        2, 1, 2, 0, 2, 1, 2, 2, 1, 1, 0, 0, 1, 1, 2, 1, 2, 2, 1, 2, 2, 0, 0, 0,\n",
      "        2, 1, 2, 0])\n",
      "6853\n",
      "tensor([4, 1, 1, 6, 2, 6, 3, 6, 2, 6, 4, 0, 1, 6, 3, 3, 2, 1, 4, 1, 0, 0, 1, 4,\n",
      "        4, 4, 1, 0, 2, 1, 1, 3, 0, 2, 2, 3, 1, 6, 2, 4, 5, 6, 0, 4, 1, 3, 1, 0,\n",
      "        4, 6, 4, 0, 6, 4, 4, 3, 4, 5, 1, 4, 0, 3, 0, 3, 6, 0, 1, 4, 3, 6, 3, 2,\n",
      "        1, 6, 6, 6, 1, 5, 4, 0, 6, 4, 1, 1, 1, 6, 2, 1, 4, 3, 4, 6, 2, 5, 2, 3,\n",
      "        3, 2, 4, 5])\n"
     ]
    },
    {
     "name": "stderr",
     "output_type": "stream",
     "text": [
      "/tmp/pip-req-build-58y_cjjl/aten/src/ATen/native/IndexingUtils.h:20: UserWarning: indexing with dtype torch.uint8 is now deprecated, please use a dtype torch.bool instead.\n",
      "/tmp/pip-req-build-58y_cjjl/aten/src/ATen/native/IndexingUtils.h:20: UserWarning: indexing with dtype torch.uint8 is now deprecated, please use a dtype torch.bool instead.\n"
     ]
    }
   ],
   "source": [
    "#get an in test and out test dataset\n",
    "\n",
    "MNIST_test_in = torchvision.datasets.MNIST(\n",
    "        '~/data/mnist',\n",
    "        train=False,\n",
    "        download=True,\n",
    "        transform=MNIST_transform)\n",
    "\n",
    "MNIST_test_in.data, MNIST_test_in.targets = get_subset_MNIST(classes=classes, dataset=MNIST_test_in)\n",
    "print(len(MNIST_test_in.targets))\n",
    "print(MNIST_test_in.targets[:100])\n",
    "\n",
    "\n",
    "MNIST_test_out = torchvision.datasets.MNIST(\n",
    "        '~/data/mnist',\n",
    "        train=False,\n",
    "        download=True,\n",
    "        transform=MNIST_transform)\n",
    "\n",
    "classes_out = [c for c in range(10) if c not in classes]\n",
    "MNIST_test_out.data, MNIST_test_out.targets = get_subset_MNIST(classes=classes_out, dataset=MNIST_test_out)\n",
    "print(len(MNIST_test_out.targets))\n",
    "print(MNIST_test_out.targets[:100])"
   ]
  },
  {
   "cell_type": "code",
   "execution_count": 13,
   "metadata": {},
   "outputs": [],
   "source": [
    "BATCH_SIZE_TRAIN_MNIST = 64\n",
    "BATCH_SIZE_TEST_MNIST = 32\n",
    "MAX_ITER_MNIST = 6"
   ]
  },
  {
   "cell_type": "code",
   "execution_count": 14,
   "metadata": {},
   "outputs": [],
   "source": [
    "mnist_train_loader = torch.utils.data.dataloader.DataLoader(\n",
    "    MNIST_train,\n",
    "    batch_size=BATCH_SIZE_TRAIN_MNIST,\n",
    "    shuffle=True\n",
    ")\n",
    "\n",
    "mnist_test_loader = torch.utils.data.dataloader.DataLoader(\n",
    "    MNIST_test_in,\n",
    "    batch_size=BATCH_SIZE_TRAIN_MNIST,\n",
    "    shuffle=False,\n",
    ")\n",
    "\n",
    "mnist_test_out_loader = torch.utils.data.dataloader.DataLoader(\n",
    "    MNIST_test_out,\n",
    "    batch_size=BATCH_SIZE_TRAIN_MNIST,\n",
    "    shuffle=False,\n",
    ")"
   ]
  },
  {
   "cell_type": "code",
   "execution_count": 15,
   "metadata": {},
   "outputs": [],
   "source": [
    "def LPADirNN(num_classes=10, num_LL=256):\n",
    "    \n",
    "    features = torch.nn.Sequential(\n",
    "        torch.nn.Conv2d(1, 32, 5),\n",
    "        torch.nn.ReLU(),\n",
    "        torch.nn.MaxPool2d(2,2),\n",
    "        torch.nn.Conv2d(32, 64, 5),\n",
    "        torch.nn.ReLU(),\n",
    "        torch.nn.MaxPool2d(2,2),\n",
    "        torch.nn.Flatten(),\n",
    "        torch.nn.Linear(4 * 4 * 64, num_LL), #changed from 500\n",
    "        torch.nn.Linear(num_LL, num_classes)  #changed from 500\n",
    "    )\n",
    "    return(features)"
   ]
  },
  {
   "cell_type": "code",
   "execution_count": 16,
   "metadata": {},
   "outputs": [],
   "source": [
    "mnist_model = LPADirNN(num_classes=3)\n",
    "loss_function = torch.nn.CrossEntropyLoss()\n",
    "\n",
    "mnist_train_optimizer = torch.optim.Adam(mnist_model.parameters(), lr=1e-3, weight_decay=5e-4)\n",
    "MNIST_PATH = \"models/mnist_3c_{}s_6iter_256.pth\".format(num_samples)"
   ]
  },
  {
   "cell_type": "code",
   "execution_count": 17,
   "metadata": {},
   "outputs": [],
   "source": [
    "#Training routine\n",
    "\n",
    "def train(verbose=False):\n",
    "    for iter in range(MAX_ITER_MNIST):\n",
    "        for batch_idx, (x, y) in enumerate(mnist_train_loader):\n",
    "            max_len = int(np.ceil(len(mnist_train_loader.dataset)/BATCH_SIZE_TRAIN_MNIST))\n",
    "            output = mnist_model(x)\n",
    "\n",
    "            accuracy = get_accuracy(output, y)\n",
    "\n",
    "            loss = loss_function(output, y)\n",
    "            loss.backward()\n",
    "            mnist_train_optimizer.step()\n",
    "            mnist_train_optimizer.zero_grad()\n",
    "\n",
    "            if verbose:\n",
    "                print(\n",
    "                    \"Iteration {}; {}/{} \\t\".format(iter, batch_idx, max_len) +\n",
    "                    \"Minibatch Loss %.3f  \" % (loss) +\n",
    "                    \"Accuracy %.0f\" % (accuracy * 100) + \"%\"\n",
    "                )\n",
    "\n",
    "    print(\"saving model at: {}\".format(MNIST_PATH))\n",
    "    torch.save(mnist_model.state_dict(), MNIST_PATH)"
   ]
  },
  {
   "cell_type": "code",
   "execution_count": 18,
   "metadata": {},
   "outputs": [],
   "source": [
    "#train(verbose=False)"
   ]
  },
  {
   "cell_type": "code",
   "execution_count": 20,
   "metadata": {},
   "outputs": [
    {
     "name": "stdout",
     "output_type": "stream",
     "text": [
      "loading model from: weights/mnist_3c_alls_6iter_256.pth\n",
      "Batch 0/99 \tAccuracy 100%\n",
      "Batch 10/99 \tAccuracy 100%\n",
      "Batch 20/99 \tAccuracy 100%\n",
      "Batch 30/99 \tAccuracy 100%\n",
      "Batch 40/99 \tAccuracy 100%\n",
      "overall test accuracy on MNIST: 99.97 %\n"
     ]
    }
   ],
   "source": [
    "#predict in distribution\n",
    "MNIST_PATH = \"weights/mnist_3c_{}s_6iter_256.pth\".format(num_samples)\n",
    "\n",
    "mnist_model = LPADirNN(num_classes=3)\n",
    "print(\"loading model from: {}\".format(MNIST_PATH))\n",
    "mnist_model.load_state_dict(torch.load(MNIST_PATH))\n",
    "mnist_model.eval()\n",
    "\n",
    "acc = []\n",
    "\n",
    "for batch_idx, (x, y) in enumerate(mnist_test_loader):\n",
    "        max_len = int(np.ceil(len(mnist_test_loader.dataset)/BATCH_SIZE_TEST_MNIST))\n",
    "        output = mnist_model(x)\n",
    "        \n",
    "        accuracy = get_accuracy(output, y)\n",
    "        if batch_idx % 10 == 0:\n",
    "            print(\n",
    "                \"Batch {}/{} \\t\".format(batch_idx, max_len) + \n",
    "                \"Accuracy %.0f\" % (accuracy * 100) + \"%\"\n",
    "            )\n",
    "        acc.append(accuracy)\n",
    "    \n",
    "avg_acc = np.mean(acc)\n",
    "print('overall test accuracy on MNIST: {:.02f} %'.format(avg_acc * 100))\n"
   ]
  },
  {
   "cell_type": "code",
   "execution_count": 21,
   "metadata": {},
   "outputs": [],
   "source": [
    "def get_in_dist_values(py_in, targets):\n",
    "    acc_in = np.mean(np.argmax(py_in, 1) == targets)\n",
    "    prob_correct = np.choose(targets, py_in.T).mean()\n",
    "    average_entropy = -np.sum(py_in*np.log(py_in+1e-8), axis=1).mean()\n",
    "    MMC = py_in.max(1).mean()\n",
    "    return(acc_in, prob_correct, average_entropy, MMC)\n",
    "    \n",
    "def get_out_dist_values(py_in, py_out, targets):\n",
    "    average_entropy = -np.sum(py_out*np.log(py_out+1e-8), axis=1).mean()\n",
    "    acc_out = np.mean(np.argmax(py_out, 1) == targets)\n",
    "    if max(targets) > len(py_in[0]):\n",
    "        targets = np.array(targets)\n",
    "        targets[targets >= len(py_in[0])] = 0\n",
    "    prob_correct = np.choose(targets, py_out.T).mean()\n",
    "    labels = np.zeros(len(py_in)+len(py_out), dtype='int32')\n",
    "    labels[:len(py_in)] = 1\n",
    "    examples = np.concatenate([py_in.max(1), py_out.max(1)])\n",
    "    auroc = roc_auc_score(labels, examples)\n",
    "    MMC = py_out.max(1).mean()\n",
    "    return(acc_out, prob_correct, average_entropy, MMC, auroc)\n",
    "\n",
    "def print_in_dist_values(acc_in, prob_correct, average_entropy, MMC, train='mnist', method='LLLA-KF'):\n",
    "    \n",
    "    print(f'[In, {method}, {train}] Accuracy: {acc_in:.3f}; average entropy: {average_entropy:.3f}; \\\n",
    "    MMC: {MMC:.3f}; Prob @ correct: {prob_correct:.3f}')\n",
    "\n",
    "\n",
    "def print_out_dist_values(acc_out, prob_correct, average_entropy, MMC, auroc, train='mnist', test='FMNIST', method='LLLA-KF'):\n",
    "   \n",
    "    print(f'[Out-{test}, {method}, {train}] Accuracy: {acc_out:.3f}; Average entropy: {average_entropy:.3f};\\\n",
    "    MMC: {MMC:.3f}; AUROC: {auroc:.3f}; Prob @ correct: {prob_correct:.3f}')"
   ]
  },
  {
   "cell_type": "markdown",
   "metadata": {},
   "source": [
    "# MAP estimate"
   ]
  },
  {
   "cell_type": "code",
   "execution_count": 22,
   "metadata": {},
   "outputs": [
    {
     "name": "stdout",
     "output_type": "stream",
     "text": [
      "[4 1 1 ... 1 2 3]\n"
     ]
    }
   ],
   "source": [
    "targets = MNIST_test_in.targets.numpy()\n",
    "targets_out = MNIST_test_out.targets.numpy()\n",
    "print(targets_out)"
   ]
  },
  {
   "cell_type": "code",
   "execution_count": 23,
   "metadata": {},
   "outputs": [],
   "source": [
    "mnist_test_in_MAP = predict_MAP(mnist_model, mnist_test_loader).numpy()\n",
    "mnist_test_out_MAP = predict_MAP(mnist_model, mnist_test_out_loader).numpy()"
   ]
  },
  {
   "cell_type": "code",
   "execution_count": 24,
   "metadata": {},
   "outputs": [],
   "source": [
    "acc_in_MAP, prob_correct_in_MAP, ent_in_MAP, MMC_in_MAP = get_in_dist_values(mnist_test_in_MAP, targets)\n",
    "acc_out_MAP, prob_correct_out_MAP, ent_out_MAP, MMC_out_MAP, auroc_out_MAP = get_out_dist_values(mnist_test_in_MAP, mnist_test_out_MAP, targets_out)"
   ]
  },
  {
   "cell_type": "code",
   "execution_count": 25,
   "metadata": {},
   "outputs": [
    {
     "name": "stdout",
     "output_type": "stream",
     "text": [
      "[In, MAP, mnist] Accuracy: 1.000; average entropy: 0.006;     MMC: 0.998; Prob @ correct: 0.998\n",
      "[Out-MAP, LLLA-KF, mnist_out] Accuracy: 0.098; Average entropy: 0.356;    MMC: 0.850; AUROC: 0.970; Prob @ correct: 0.291\n"
     ]
    }
   ],
   "source": [
    "print_in_dist_values(acc_in_MAP, prob_correct_in_MAP, ent_in_MAP, MMC_in_MAP, 'mnist', 'MAP')\n",
    "print_out_dist_values(acc_out_MAP, prob_correct_out_MAP, ent_out_MAP, MMC_out_MAP, auroc_out_MAP, 'mnist_out', 'MAP')"
   ]
  },
  {
   "cell_type": "markdown",
   "metadata": {},
   "source": [
    "# Laplace bridge"
   ]
  },
  {
   "cell_type": "code",
   "execution_count": 26,
   "metadata": {},
   "outputs": [],
   "source": [
    "## play around with Backpack\n",
    "def get_Hessian_NN(model, train_loader, var0, device='cpu', verbose=True):\n",
    "    lossfunc = torch.nn.CrossEntropyLoss()\n",
    "\n",
    "    extend(lossfunc, debug=False)\n",
    "    extend(model, debug=False)\n",
    "\n",
    "    Hessian_diag = []\n",
    "    for param in mnist_model.parameters():\n",
    "        ps = param.size()\n",
    "        print(\"parameter size: \", ps)\n",
    "        Hessian_diag.append(torch.zeros(ps, device=device))\n",
    "        #print(param.numel())\n",
    "\n",
    "    tau = 1/var0\n",
    "    max_len = len(train_loader)\n",
    "\n",
    "    with backpack(DiagHessian()):\n",
    "\n",
    "        for batch_idx, (x, y) in enumerate(train_loader):\n",
    "\n",
    "            if device == 'cuda':\n",
    "                x, y = x.float().cuda(), y.long().cuda()\n",
    "\n",
    "            mnist_model.zero_grad()\n",
    "            lossfunc(model(x), y).backward()\n",
    "\n",
    "            with torch.no_grad():\n",
    "                # Hessian of weight\n",
    "                for idx, param in enumerate(model.parameters()):\n",
    "\n",
    "                    H_ = param.diag_h\n",
    "                    #add bias here\n",
    "                    H_ += tau * torch.ones(H_.size())\n",
    "\n",
    "                    rho = min(1-1/(batch_idx+1), 0.95)\n",
    "\n",
    "                    Hessian_diag[idx] = rho*Hessian_diag[idx] + (1-rho)*H_\n",
    "            \n",
    "            if verbose:\n",
    "                print(\"Batch: {}/{}\".format(batch_idx, max_len))\n",
    "\n",
    "    #combine all elements of the Hessian to one big vector\n",
    "    Hessian_diag = torch.cat([el.view(-1) for el in Hessian_diag])\n",
    "    print(\"Hessian_size: \", Hessian_diag.size())\n",
    "    num_params = np.sum([p.numel() for p in model.parameters()])\n",
    "    assert(num_params == Hessian_diag.size(-1))\n",
    "    return(Hessian_diag)\n",
    "        "
   ]
  },
  {
   "cell_type": "code",
   "execution_count": 27,
   "metadata": {},
   "outputs": [
    {
     "name": "stdout",
     "output_type": "stream",
     "text": [
      "parameter size:  torch.Size([32, 1, 5, 5])\n",
      "parameter size:  torch.Size([32])\n",
      "parameter size:  torch.Size([64, 32, 5, 5])\n",
      "parameter size:  torch.Size([64])\n",
      "parameter size:  torch.Size([256, 1024])\n",
      "parameter size:  torch.Size([256])\n",
      "parameter size:  torch.Size([3, 256])\n",
      "parameter size:  torch.Size([3])\n",
      "Hessian_size:  torch.Size([315267])\n"
     ]
    }
   ],
   "source": [
    "Hessian_MNIST = get_Hessian_NN(model=mnist_model, train_loader=mnist_train_loader, var0=2,verbose=False)"
   ]
  },
  {
   "cell_type": "code",
   "execution_count": 28,
   "metadata": {},
   "outputs": [],
   "source": [
    "from scipy.special import digamma\n",
    "\n",
    "def log_beta_function(alpha):\n",
    "    return(np.sum([loggamma(a_i) for a_i in alpha]) - loggamma(np.sum(alpha)))\n",
    "\n",
    "def alphas_norm(alphas):\n",
    "    alphas = np.array(alphas)\n",
    "    return(alphas/alphas.sum(axis=1).reshape(-1,1))\n",
    "\n",
    "def alphas_variance(alphas):\n",
    "    alphas = np.array(alphas)\n",
    "    norm = alphas_norm(alphas)\n",
    "    nom = norm * (1 - norm)\n",
    "    den = alphas.sum(axis=1).reshape(-1,1) + 1\n",
    "    return(nom/den)\n",
    "\n",
    "def alpha_entropy(alpha):\n",
    "    K = len(alpha)\n",
    "    alpha = np.array(alpha)\n",
    "    B = log_beta_function(alpha)\n",
    "    #print(\"B: \", B)\n",
    "    alpha_0 = np.sum(alpha)\n",
    "    C = (alpha_0 - K)*digamma(alpha_0)\n",
    "    #print(\"C: \", C)\n",
    "    D = np.sum((alpha-1)*digamma(alpha))\n",
    "    #print(\"D: \", D)\n",
    "    entropy = B + C - D\n",
    "    \n",
    "    return(np.array(entropy))\n",
    "        \n",
    "\n",
    "def alphas_log_prob(alphas):\n",
    "    alphas = np.array(alphas)\n",
    "    dig_sum = digamma(alphas.sum(axis=1).reshape(-1,1))\n",
    "    log_prob = digamma(alphas) - dig_sum\n",
    "    return(log_prob)"
   ]
  },
  {
   "cell_type": "code",
   "execution_count": 29,
   "metadata": {},
   "outputs": [],
   "source": [
    "def compute_jacobians_with_backpack(model, x, y, lossfunc):\n",
    "    \"\"\"\n",
    "    Returns the jacobians of the network\n",
    "\n",
    "    The output is a list. Each element in the list is a tensor\n",
    "    corresponding to the model.parameters().\n",
    "\n",
    "    The tensor are of the form [N, *, C] where N is the batch dimension,\n",
    "    C is the number of classes (output size of the network)\n",
    "    and * is the shape of the model parameters\n",
    "    \"\"\"\n",
    "    #this is a bit hacky. Refactoring needed\n",
    "    if max(y) > 3:\n",
    "        y[y >= 3] = np.random.randint(0,3)\n",
    "    \n",
    "    loss = lossfunc(model(x), y)\n",
    "\n",
    "    with backpack(NetJac()):\n",
    "        loss.backward()\n",
    "\n",
    "    jacs = []\n",
    "    for p in model.parameters():\n",
    "        jacs.append(p.netjacs.data)\n",
    "    return jacs\n",
    "\n",
    "def transform2full_jac(backpack_jacobian):\n",
    "\n",
    "    jac_full = []\n",
    "    #batch_size\n",
    "    N = backpack_jacobian[0].size(0)\n",
    "    #num classes\n",
    "    k = backpack_jacobian[0].size(-1)\n",
    "    for j in backpack_jacobian:\n",
    "        jac_full.append(j.view(N, -1, k).permute(0,2,1))\n",
    "    jac_full = torch.cat(jac_full, dim=-1)\n",
    "    return(jac_full)\n",
    "\n",
    "def get_Jacobian(model, x, y, lossfunc):\n",
    "    return(transform2full_jac(compute_jacobians_with_backpack(model, x, y, lossfunc)))"
   ]
  },
  {
   "cell_type": "code",
   "execution_count": 30,
   "metadata": {},
   "outputs": [],
   "source": [
    "def get_alpha_from_Normal(mu, Sigma):\n",
    "    batch_size, K = mu.size(0), mu.size(-1)\n",
    "    Sigma_d = torch.diagonal(Sigma, dim1=1, dim2=2)\n",
    "    sum_exp = torch.sum(torch.exp(-1*torch.Tensor(mu)), dim=1).view(-1,1)\n",
    "    alpha = 1/Sigma_d * (1 - 2/K + torch.exp(mu)/K**2 * sum_exp)\n",
    "    \n",
    "    assert(alpha.size() == mu.size())\n",
    "    \n",
    "    return(alpha)"
   ]
  },
  {
   "cell_type": "code",
   "execution_count": 31,
   "metadata": {},
   "outputs": [],
   "source": [
    "def predict_DIR_LPA(model, test_loader, Hessian, verbose=True):\n",
    "\n",
    "    lossfunc = torch.nn.CrossEntropyLoss()\n",
    "    extend(lossfunc, debug=False)\n",
    "    \n",
    "    alphas = []\n",
    "\n",
    "    max_len = len(test_loader)\n",
    "    for batch_idx, (x, y) in enumerate(test_loader):\n",
    "\n",
    "        J = get_Jacobian(model, x, y, lossfunc)\n",
    "        batch_size = J.size(0)\n",
    "        num_classes = J.size(1)\n",
    "        Cov_pred = torch.bmm(J * Hessian, J.permute(0, 2, 1))\n",
    "        #print(\"cov pred size: \", Cov_pred.size())\n",
    "        \n",
    "        mu_pred = model(x)\n",
    "        \n",
    "        #make sure that it fullfills all the properties:\n",
    "        #mu_pred -= mu_pred.mean()\n",
    "        #Cov_pred -= torch.matmul(Cov_pred.sum(dim=2).view(-1, 10, 1), Cov_pred.sum(dim=1).view(-1, 1, 10))/Cov_pred.sum(0)\n",
    "        \n",
    "        alpha = get_alpha_from_Normal(mu_pred, Cov_pred).detach()\n",
    "    \n",
    "        alphas.append(alpha)\n",
    "\n",
    "\n",
    "        if verbose:\n",
    "            print(\"Batch: {}/{}\".format(batch_idx, max_len))\n",
    "\n",
    "    return(torch.cat(alphas, dim = 0))\n"
   ]
  },
  {
   "cell_type": "code",
   "execution_count": 32,
   "metadata": {},
   "outputs": [],
   "source": [
    "mnist_test_in_DIR_LPA = predict_DIR_LPA(mnist_model, mnist_test_loader, Hessian_MNIST, verbose=False).numpy()\n",
    "mnist_test_out_DIR_LPA = predict_DIR_LPA(mnist_model, mnist_test_out_loader, Hessian_MNIST, verbose=False).numpy()"
   ]
  },
  {
   "cell_type": "code",
   "execution_count": 33,
   "metadata": {},
   "outputs": [],
   "source": [
    "#McKay\n",
    "mnist_test_in_DIR_LPAn = mnist_test_in_DIR_LPA/mnist_test_in_DIR_LPA.sum(1).reshape(-1,1)\n",
    "mnist_test_out_DIR_LPAn = mnist_test_out_DIR_LPA/mnist_test_out_DIR_LPA.sum(1).reshape(-1,1)"
   ]
  },
  {
   "cell_type": "code",
   "execution_count": 34,
   "metadata": {},
   "outputs": [
    {
     "name": "stdout",
     "output_type": "stream",
     "text": [
      "[In, DIR_LPA, mnist] Accuracy: 0.999; average entropy: 0.010;     MMC: 0.997; Prob @ correct: 0.997\n",
      "[Out-DIR_LPA, LLLA-KF, mnist_out] Accuracy: 0.107; Average entropy: 0.417;    MMC: 0.823; AUROC: 0.965; Prob @ correct: 0.284\n"
     ]
    }
   ],
   "source": [
    "acc_in_DIR_LPA, prob_correct_in_DIR_LPA, ent_in_DIR_LPA, MMC_in_DIR_LPA = get_in_dist_values(mnist_test_in_DIR_LPAn, targets)\n",
    "acc_out_DIR_LPA, prob_correct_out_DIR_LPA, ent_out_DIR_LPA, MMC_out_DIR_LPA, auroc_out_DIR_LPA = get_out_dist_values(mnist_test_in_DIR_LPAn, mnist_test_out_DIR_LPAn, targets_out)\n",
    "print_in_dist_values(acc_in_DIR_LPA, prob_correct_in_DIR_LPA, ent_in_DIR_LPA, MMC_in_DIR_LPA, 'mnist', 'DIR_LPA')\n",
    "print_out_dist_values(acc_out_DIR_LPA, prob_correct_out_DIR_LPA, ent_out_DIR_LPA, MMC_out_DIR_LPA, auroc_out_DIR_LPA, 'mnist_out', 'DIR_LPA')"
   ]
  },
  {
   "cell_type": "markdown",
   "metadata": {},
   "source": [
    "# Make some fancy 3D Dirichlet plots"
   ]
  },
  {
   "cell_type": "code",
   "execution_count": 35,
   "metadata": {},
   "outputs": [
    {
     "name": "stdout",
     "output_type": "stream",
     "text": [
      "[3.5528046e-07 1.7502197e-08 9.9999964e-01] [1.3341720e-05 9.9993658e-01 5.0059487e-05] [9.9999726e-01 1.1695286e-10 2.7654921e-06] [2.8933919e-06 9.9998975e-01 7.4475211e-06]\n",
      "[8.0104973e-03 1.5489871e-03 2.3099021e+04] [3.3982769e-03 4.5851826e+01 9.9649541e-03] [1.6646234e+06 1.2334236e-03 1.1260537e+01] [2.3885756e-03 1.7516371e+02 6.4065834e-03]\n",
      "2 1 0 1\n"
     ]
    }
   ],
   "source": [
    "MAP0 = mnist_test_in_MAP[0]\n",
    "MAP1 = mnist_test_in_MAP[1]\n",
    "MAP2 = mnist_test_in_MAP[2]\n",
    "MAP3 = mnist_test_in_MAP[3]\n",
    "\n",
    "d0 = mnist_test_in_DIR_LPA[0]\n",
    "d1 = mnist_test_in_DIR_LPA[1]\n",
    "d2 = mnist_test_in_DIR_LPA[2]\n",
    "d3 = mnist_test_in_DIR_LPA[3]\n",
    "\n",
    "t0 = targets[0]\n",
    "t1 = targets[1]\n",
    "t2 = targets[2]\n",
    "t3 = targets[3]\n",
    "print(MAP0, MAP1, MAP2, MAP3)\n",
    "print(d0, d1, d2, d3)\n",
    "print(t0, t1, t2, t3)"
   ]
  },
  {
   "cell_type": "code",
   "execution_count": 36,
   "metadata": {},
   "outputs": [
    {
     "data": {
      "image/png": "[encoded data removed]",
      "text/plain": [
       "<Figure size 1080x360 with 3 Axes>"
      ]
     },
     "metadata": {
      "needs_background": "light"
     },
     "output_type": "display_data"
    }
   ],
   "source": [
    "dists = [Dirichlet(d0), Dirichlet(d1), Dirichlet(d2)]\n",
    "draw_triple_pdfs(dists, subdiv=4)"
   ]
  },
  {
   "cell_type": "code",
   "execution_count": 37,
   "metadata": {},
   "outputs": [
    {
     "name": "stdout",
     "output_type": "stream",
     "text": [
      "test_map:  [array([9.9997365e-01, 7.7600584e-09, 2.6307867e-05], dtype=float32), array([1.3341720e-05, 9.9993658e-01, 5.0059487e-05], dtype=float32), array([3.5528046e-07, 1.7502197e-08, 9.9999964e-01], dtype=float32)]\n",
      "test_d:  [array([3.4447539e+04, 1.4655321e-03, 2.1521256e+00], dtype=float32), array([3.3982769e-03, 4.5851826e+01, 9.9649541e-03], dtype=float32), array([8.0104973e-03, 1.5489871e-03, 2.3099021e+04], dtype=float32)]\n",
      "test_targets:  [0, 1, 2]\n"
     ]
    },
    {
     "data": {
      "image/png": "[encoded data removed]",
      "text/plain": [
       "<Figure size 1080x360 with 3 Axes>"
      ]
     },
     "metadata": {
      "needs_background": "light"
     },
     "output_type": "display_data"
    }
   ],
   "source": [
    "L = [4,1,0]\n",
    "test_map = [mnist_test_in_MAP[i] for i in L]\n",
    "test_d = [mnist_test_in_DIR_LPA[i] for i in L]\n",
    "test_dists = [Dirichlet(d) for d in test_d]\n",
    "test_targets = [targets[i] for i in L]\n",
    "print(\"test_map: \", test_map)\n",
    "print(\"test_d: \", test_d)\n",
    "print(\"test_targets: \", test_targets)\n",
    "\n",
    "draw_triple_pdfs(test_dists, subdiv=4, filename='MNIST3_in_dist_cool.pdf')"
   ]
  },
  {
   "cell_type": "code",
   "execution_count": 38,
   "metadata": {},
   "outputs": [
    {
     "name": "stdout",
     "output_type": "stream",
     "text": [
      "153\n",
      "153\n",
      "153\n"
     ]
    },
    {
     "data": {
      "image/png": "[encoded data removed]",
      "text/plain": [
       "<Figure size 432x288 with 1 Axes>"
      ]
     },
     "metadata": {},
     "output_type": "display_data"
    }
   ],
   "source": [
    "draw_pdf_contours(test_dists[0], filename='MNIST_3Classes_in_dist_coolwarm_0.png')\n",
    "draw_pdf_contours(test_dists[1], filename='MNIST_3Classes_in_dist_coolwarm_1.png')\n",
    "draw_pdf_contours(test_dists[2], filename='MNIST_3Classes_in_dist_coolwarm_2.png')"
   ]
  },
  {
   "cell_type": "code",
   "execution_count": 39,
   "metadata": {},
   "outputs": [
    {
     "name": "stdout",
     "output_type": "stream",
     "text": [
      "[0.06142883 0.00112431 0.93744683] [8.4837115e-01 8.3218107e-04 1.5079665e-01] [2.8097574e-04 1.3998334e-02 9.8572063e-01] [0.05177294 0.03389385 0.9143332 ]\n",
      "[0.02420382 0.00238482 0.5011989 ] [0.2642896  0.00284564 0.10667464] [1.1954285e-03 3.4163818e-02 1.4172046e+00] [0.00234906 0.00264598 0.02465811]\n",
      "4 1 1 6\n"
     ]
    }
   ],
   "source": [
    "MAP0_MNIST_out = mnist_test_out_MAP[0]\n",
    "MAP1_MNIST_out = mnist_test_out_MAP[1]\n",
    "MAP2_MNIST_out = mnist_test_out_MAP[2]\n",
    "MAP3_MNIST_out = mnist_test_out_MAP[3]\n",
    "\n",
    "d0_MNIST_out = mnist_test_out_DIR_LPA[0]\n",
    "d1_MNIST_out = mnist_test_out_DIR_LPA[1]\n",
    "d2_MNIST_out = mnist_test_out_DIR_LPA[2]\n",
    "d3_MNIST_out = mnist_test_out_DIR_LPA[3]\n",
    "\n",
    "t0_MNIST_out = targets_out[0]\n",
    "t1_MNIST_out = targets_out[1]\n",
    "t2_MNIST_out = targets_out[2]\n",
    "t3_MNIST_out = targets_out[3]\n",
    "print(MAP0_MNIST_out, MAP1_MNIST_out, MAP2_MNIST_out, MAP3_MNIST_out)\n",
    "print(d0_MNIST_out, d1_MNIST_out, d2_MNIST_out, d3_MNIST_out)\n",
    "print(t0_MNIST_out, t1_MNIST_out, t2_MNIST_out, t3_MNIST_out)"
   ]
  },
  {
   "cell_type": "code",
   "execution_count": 40,
   "metadata": {},
   "outputs": [
    {
     "data": {
      "image/png": "[encoded data removed]",
      "text/plain": [
       "<Figure size 1080x360 with 3 Axes>"
      ]
     },
     "metadata": {
      "needs_background": "light"
     },
     "output_type": "display_data"
    }
   ],
   "source": [
    "dists = [Dirichlet(d0_MNIST_out), Dirichlet(d1_MNIST_out), Dirichlet(d2_MNIST_out)]\n",
    "#MAPs = [MAP0_MNIST_out, MAP1_MNIST_out, MAP2_MNIST_out]\n",
    "draw_triple_pdfs(dists, subdiv=4)"
   ]
  },
  {
   "cell_type": "code",
   "execution_count": 41,
   "metadata": {},
   "outputs": [
    {
     "name": "stdout",
     "output_type": "stream",
     "text": [
      "test_map:  [array([9.6336575e-05, 6.1517805e-01, 3.8472557e-01], dtype=float32), array([0.06649538, 0.14541973, 0.788085  ], dtype=float32), array([0.9674727 , 0.01537188, 0.01715543], dtype=float32)]\n",
      "test_d:  [array([9.2783174e-04, 3.1196833e+00, 1.8261181e+00], dtype=float32), array([0.00193384, 0.00630239, 0.01469803], dtype=float32), array([0.07673869, 0.00336693, 0.00508528], dtype=float32)]\n",
      "test_targets:  [0, 1, 6]\n"
     ]
    },
    {
     "data": {
      "image/png": "[encoded data removed]",
      "text/plain": [
       "<Figure size 1080x360 with 3 Axes>"
      ]
     },
     "metadata": {
      "needs_background": "light"
     },
     "output_type": "display_data"
    }
   ],
   "source": [
    "L = [27, 12,13]\n",
    "#12, 13, 3,5, 9,10, 27\n",
    "test_map_MNIST_out = [mnist_test_out_MAP[i] for i in L]\n",
    "test_d_MNIST_out = [mnist_test_out_DIR_LPA[i] for i in L]\n",
    "test_dists_MNIST_out = [Dirichlet(d) for d in test_d_MNIST_out]\n",
    "test_targets_MNIST_out = [targets_out[i] for i in L]\n",
    "print(\"test_map: \", test_map_MNIST_out)\n",
    "print(\"test_d: \", test_d_MNIST_out)\n",
    "print(\"test_targets: \", test_targets_MNIST_out)\n",
    "\n",
    "draw_triple_pdfs(test_dists_MNIST_out, subdiv=4, filename='MNIST3_out_dist_cool.pdf')"
   ]
  },
  {
   "cell_type": "code",
   "execution_count": 42,
   "metadata": {},
   "outputs": [
    {
     "name": "stdout",
     "output_type": "stream",
     "text": [
      "153\n",
      "153\n",
      "153\n"
     ]
    },
    {
     "data": {
      "image/png": "[encoded data removed]",
      "text/plain": [
       "<Figure size 432x288 with 1 Axes>"
      ]
     },
     "metadata": {},
     "output_type": "display_data"
    }
   ],
   "source": [
    "draw_pdf_contours(test_dists_MNIST_out[0], filename='MNIST_3Classes_out_dist_coolwarm_0.png')\n",
    "draw_pdf_contours(test_dists_MNIST_out[1], filename='MNIST_3Classes_out_dist_coolwarm_1.png')\n",
    "draw_pdf_contours(test_dists_MNIST_out[2], filename='MNIST_3Classes_out_dist_coolwarm_2.png')"
   ]
  },
  {
   "cell_type": "markdown",
   "metadata": {},
   "source": [
    "# check out different values of the dirichlet for in and out of dist data"
   ]
  },
  {
   "cell_type": "code",
   "execution_count": 43,
   "metadata": {},
   "outputs": [
    {
     "name": "stdout",
     "output_type": "stream",
     "text": [
      "avg:  [2.2479300e+06 1.6509863e-03 1.0224555e+01]\n",
      "max:  2247929.2\n",
      "variance:  0.0004855976\n",
      "ent:  -651777.155090332\n",
      "avg:  [2.3190537e-03 2.3886182e+03 8.5335058e-01]\n",
      "max:  2388.6184\n",
      "variance:  0.0012322714\n",
      "ent:  -655977.8367102146\n",
      "avg:  [4.44689952e-02 1.13688540e+00 1.00080704e+09]\n",
      "max:  1000807230.0\n",
      "variance:  0.00028184248\n",
      "ent:  -882494.30078125\n"
     ]
    }
   ],
   "source": [
    "#in dist values\n",
    "average_alphas_in = []\n",
    "max_alphas_in = []\n",
    "var_alphas_in = []\n",
    "ent_alphas_in = []\n",
    "for i in range(len(np.unique(targets))):\n",
    "    #get all alphas beloning to that class\n",
    "    alphas = mnist_test_in_DIR_LPA[np.where(targets == i)]\n",
    "    #average alpha\n",
    "    avg_alpha = alphas.mean(0)\n",
    "    average_alphas_in.append(avg_alpha)\n",
    "    print(\"avg: \", avg_alpha)\n",
    "    #max alpha\n",
    "    max_alphas = alphas.max(1)\n",
    "    max_alphas_in.append(np.mean(max_alphas))\n",
    "    print(\"max: \", np.mean(max_alphas))\n",
    "    #variance\n",
    "    var_alphas = alphas_variance(alphas)\n",
    "    var_alphas_in.append(np.mean(var_alphas))\n",
    "    print(\"variance: \", np.mean(var_alphas))\n",
    "    #entropy\n",
    "    ent_alphas = alpha_entropy(alphas)\n",
    "    ent_alphas_in.append(np.mean(ent_alphas))\n",
    "    print(\"ent: \", np.mean(ent_alphas))"
   ]
  },
  {
   "cell_type": "code",
   "execution_count": 44,
   "metadata": {},
   "outputs": [
    {
     "name": "stdout",
     "output_type": "stream",
     "text": [
      "avg:  [7.124416e-02 4.979935e+01 4.584105e+02]\n",
      "max:  499.00674\n",
      "variance:  0.040894285\n",
      "ent:  -1056142.7567662597\n",
      "avg:  [0.8459512  0.11533251 0.45956165]\n",
      "max:  1.38495\n",
      "variance:  0.11516662\n",
      "ent:  -692842.448373432\n",
      "avg:  [  2.716324 128.65588   98.72319 ]\n",
      "max:  228.7924\n",
      "variance:  0.066175975\n",
      "ent:  -839326.6815341115\n",
      "avg:  [209.13145     0.5829125   7.673742 ]\n",
      "max:  216.27553\n",
      "variance:  0.039767493\n",
      "ent:  -516369.0567560792\n",
      "avg:  [1.0818167e+02 1.3822620e+00 6.4399477e+04]\n",
      "max:  64507.418\n",
      "variance:  0.05828355\n",
      "ent:  -673634.6675872803\n",
      "avg:  [8.3159304e+00 1.4790748e-01 4.6989053e+02]\n",
      "max:  477.43695\n",
      "variance:  0.039114334\n",
      "ent:  -729917.3638184369\n",
      "avg:  [87.725586   1.5192872  5.447289 ]\n",
      "max:  92.74928\n",
      "variance:  0.080622084\n",
      "ent:  -590292.6172466278\n"
     ]
    }
   ],
   "source": [
    "#out dist values\n",
    "average_alphas_out = []\n",
    "max_alphas_out = []\n",
    "var_alphas_out = []\n",
    "ent_alphas_out = []\n",
    "for i in range(len(np.unique(targets_out))):\n",
    "    #get all alphas beloning to that class\n",
    "    alphas = mnist_test_out_DIR_LPA[np.where(targets_out == i)]\n",
    "    #average alpha\n",
    "    avg_alpha = alphas.mean(0)\n",
    "    average_alphas_out.append(avg_alpha)\n",
    "    print(\"avg: \", avg_alpha)\n",
    "    #max alpha\n",
    "    max_alphas = alphas.max(1)\n",
    "    max_alphas_out.append(np.mean(max_alphas))\n",
    "    print(\"max: \", np.mean(max_alphas))\n",
    "    #variance\n",
    "    var_alphas = alphas_variance(alphas)\n",
    "    var_alphas_out.append(np.mean(var_alphas))\n",
    "    print(\"variance: \", np.mean(var_alphas))\n",
    "    #entropy\n",
    "    ent_alphas = alpha_entropy(alphas)\n",
    "    ent_alphas_out.append(np.mean(ent_alphas))\n",
    "    print(\"ent: \", np.mean(ent_alphas))"
   ]
  },
  {
   "cell_type": "markdown",
   "metadata": {},
   "source": [
    "# plot in and out of dist data"
   ]
  },
  {
   "cell_type": "code",
   "execution_count": 45,
   "metadata": {},
   "outputs": [
    {
     "name": "stdout",
     "output_type": "stream",
     "text": [
      "in classes:  [0, 1, 2]\n",
      "out classes:  [3, 4, 5, 6, 7, 8, 9]\n",
      "max alphas combined:  [2.24792925e+06 2.38861841e+03 1.00080723e+09 4.99006744e+02\n",
      " 1.38495004e+00 2.28792404e+02 2.16275528e+02 6.45074180e+04\n",
      " 4.77436951e+02 9.27492828e+01]\n",
      "var alphas combined:  [0.0004856  0.00123227 0.00028184 0.04089428 0.11516662 0.06617597\n",
      " 0.03976749 0.05828355 0.03911433 0.08062208]\n",
      "ent alphas combined:  [ -651777.15509033  -655977.83671021  -882494.30078125 -1056142.75676626\n",
      "  -692842.44837343  -839326.68153411  -516369.05675608  -673634.66758728\n",
      "  -729917.36381844  -590292.61724663]\n"
     ]
    }
   ],
   "source": [
    "print(\"in classes: \", classes)\n",
    "print(\"out classes: \", classes_out)\n",
    "classes_in_map = dict()\n",
    "for i in range(len(classes)):\n",
    "    classes_in_map[i] = classes[i]\n",
    "classes_out_map = dict()\n",
    "for i in range(len(classes_out)):\n",
    "    classes_out_map[i] = classes_out[i]\n",
    "#print(classes_in_map)\n",
    "#print(classes_out_map)\n",
    "\n",
    "max_alphas_combined = np.zeros(10)\n",
    "for i, x in enumerate(max_alphas_in):\n",
    "    max_alphas_combined[classes_in_map[i]] = x\n",
    "for i, x in enumerate(max_alphas_out):\n",
    "    max_alphas_combined[classes_out_map[i]] = x\n",
    "var_alphas_combined = np.zeros(10)\n",
    "for i, x in enumerate(var_alphas_in):\n",
    "    var_alphas_combined[classes_in_map[i]] = x\n",
    "for i, x in enumerate(var_alphas_out):\n",
    "    var_alphas_combined[classes_out_map[i]] = x\n",
    "ent_alphas_combined = np.zeros(10)\n",
    "for i, x in enumerate(ent_alphas_in):\n",
    "    ent_alphas_combined[classes_in_map[i]] = x\n",
    "for i, x in enumerate(ent_alphas_out):\n",
    "    ent_alphas_combined[classes_out_map[i]] = x\n",
    "    \n",
    "print(\"max alphas combined: \", max_alphas_combined)\n",
    "print(\"var alphas combined: \", var_alphas_combined)\n",
    "print(\"ent alphas combined: \", ent_alphas_combined)"
   ]
  },
  {
   "cell_type": "code",
   "execution_count": 81,
   "metadata": {},
   "outputs": [
    {
     "data": {
      "image/png": "[encoded data removed]",
      "text/plain": [
       "<Figure size 864x252 with 1 Axes>"
      ]
     },
     "metadata": {
      "needs_background": "light"
     },
     "output_type": "display_data"
    }
   ],
   "source": [
    "# plot var \n",
    "import tikzplotlib as tpl\n",
    "\n",
    "fig = plt.figure()\n",
    "\n",
    "plt.rcParams[\"figure.figsize\"] = (12, 3.5)\n",
    "plt.rcParams['xtick.labelsize'] = 20\n",
    "plt.rcParams['ytick.labelsize'] = 18\n",
    "plt.rcParams[\"font.family\"] = \"serif\"\n",
    "plt.rcParams[\"font.serif\"] = \"Times New Roman\"\n",
    "\n",
    "plt.plot(classes, var_alphas_in, 'ro', markersize=12, label='In Dist')\n",
    "plt.plot(classes_out, var_alphas_out, 'bo', markersize=12, label='Out Dist')\n",
    "plt.xlabel('MNIST Class', fontdict={'fontsize':25})\n",
    "plt.ylabel('Mean Variance', fontdict={'fontsize':25})\n",
    "plt.legend(loc='upper left', prop={'size': 25});\n",
    "\n",
    "plt.tight_layout()\n",
    "plt.savefig('figures/MNIST3VarianceOOD.pdf')\n",
    "\n",
    "plt.show()\n",
    "\n",
    "#tpl.save('MNIST3VarianceOOD.tex', figure=fig, tex_relative_path_to_data='.figures', figurewidth='\\\\figwidth', figureheight='\\\\figheight')\n",
    "#tpl.save('MNIST3VarianceOOD.tex', figure=fig, figurewidth='\\\\figwidth', figureheight='\\\\figheight',\n",
    "#         extra_axis_parameters={'xtick align=outside', 'ytick align=outside', 'xtick pos=left', 'ytick pos=left', 'legend pos=north west'})"
   ]
  },
  {
   "cell_type": "code",
   "execution_count": null,
   "metadata": {},
   "outputs": [],
   "source": []
  },
  {
   "cell_type": "code",
   "execution_count": null,
   "metadata": {},
   "outputs": [],
   "source": []
  },
  {
   "cell_type": "code",
   "execution_count": null,
   "metadata": {},
   "outputs": [],
   "source": []
  },
  {
   "cell_type": "code",
   "execution_count": null,
   "metadata": {},
   "outputs": [],
   "source": []
  }
 ],
 "metadata": {
  "kernelspec": {
   "display_name": "Python 3",
   "language": "python",
   "name": "python3"
  },
  "language_info": {
   "codemirror_mode": {
    "name": "ipython",
    "version": 3
   },
   "file_extension": ".py",
   "mimetype": "text/x-python",
   "name": "python",
   "nbconvert_exporter": "python",
   "pygments_lexer": "ipython3",
   "version": "3.7.6"
  }
 },
 "nbformat": 4,
 "nbformat_minor": 4
}
